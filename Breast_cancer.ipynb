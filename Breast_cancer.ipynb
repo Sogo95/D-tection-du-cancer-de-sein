{
 "cells": [
  {
   "cell_type": "markdown",
   "metadata": {},
   "source": [
    "# Importation de la library necessaire"
   ]
  },
  {
   "cell_type": "code",
   "execution_count": 2,
   "metadata": {},
   "outputs": [
    {
     "name": "stdout",
     "output_type": "stream",
     "text": [
      "WARNING:tensorflow:From f:\\anaconda3\\Lib\\site-packages\\keras\\src\\losses.py:2976: The name tf.losses.sparse_softmax_cross_entropy is deprecated. Please use tf.compat.v1.losses.sparse_softmax_cross_entropy instead.\n",
      "\n"
     ]
    }
   ],
   "source": [
    "import numpy as np\n",
    "import pandas as pd \n",
    "import matplotlib.pyplot as plt\n",
    "%matplotlib inline\n",
    "import seaborn as sns\n",
    "#import cv2 \n",
    "import glob\n",
    "import random\n",
    "from os import listdir\n",
    "from sklearn.metrics import classification_report\n",
    "import tensorflow as tf\n",
    "import keras.utils as image"
   ]
  },
  {
   "cell_type": "markdown",
   "metadata": {},
   "source": [
    "# Liste des dossiers de patients/ nombre de patient"
   ]
  },
  {
   "cell_type": "code",
   "execution_count": 18,
   "metadata": {},
   "outputs": [
    {
     "data": {
      "text/plain": [
       "279"
      ]
     },
     "execution_count": 18,
     "metadata": {},
     "output_type": "execute_result"
    }
   ],
   "source": [
    "pat_fold = \"F:/Data_Breast_Cancer/IDC_regular_ps50_idx5/\"\n",
    "folder = listdir(pat_fold)\n",
    "len(folder)"
   ]
  },
  {
   "cell_type": "markdown",
   "metadata": {},
   "source": [
    "# Comptons le notre total d'images que nous avons"
   ]
  },
  {
   "cell_type": "code",
   "execution_count": 24,
   "metadata": {},
   "outputs": [
    {
     "data": {
      "text/plain": [
       "277524"
      ]
     },
     "execution_count": 24,
     "metadata": {},
     "output_type": "execute_result"
    }
   ],
   "source": [
    "# NOtre total d'image\n",
    "img_T = 0\n",
    "for n in range(len(folder)):\n",
    "    patient_id = folder[n]\n",
    "    for c in [0, 1]:\n",
    "        patient_path = pat_fold + patient_id \n",
    "        class_path = patient_path + \"/\" + str(c) + \"/\"\n",
    "        subfiles = listdir(class_path)\n",
    "        img_T += len(subfiles)\n",
    "img_T"
   ]
  },
  {
   "cell_type": "code",
   "execution_count": 27,
   "metadata": {},
   "outputs": [],
   "source": [
    "# Extraction de toutes les images\n",
    "#img_cancer = glob.glob('F:/Data_Breast_Cancer/IDC_regular_ps50_idx5/**/*.png', recursive = True)\n",
    "\n",
    "#for imgname in img_cancer[:10]:\n",
    "    #print(imgname)"
   ]
  },
  {
   "cell_type": "markdown",
   "metadata": {},
   "source": [
    "Notre base de données comporte 277524 images collecté chez 279 patients. Nous allons regroupé ces images en fonction du Id des patients, le lien d'accès a chaque image ainsi que le résultat d'examen de chacune en Dataframe pour faciliter leur manipulation. "
   ]
  },
  {
   "cell_type": "code",
   "execution_count": 30,
   "metadata": {},
   "outputs": [
    {
     "data": {
      "text/html": [
       "<div>\n",
       "<style scoped>\n",
       "    .dataframe tbody tr th:only-of-type {\n",
       "        vertical-align: middle;\n",
       "    }\n",
       "\n",
       "    .dataframe tbody tr th {\n",
       "        vertical-align: top;\n",
       "    }\n",
       "\n",
       "    .dataframe thead th {\n",
       "        text-align: right;\n",
       "    }\n",
       "</style>\n",
       "<table border=\"1\" class=\"dataframe\">\n",
       "  <thead>\n",
       "    <tr style=\"text-align: right;\">\n",
       "      <th></th>\n",
       "      <th>patient_id</th>\n",
       "      <th>path</th>\n",
       "      <th>target</th>\n",
       "    </tr>\n",
       "  </thead>\n",
       "  <tbody>\n",
       "    <tr>\n",
       "      <th>0</th>\n",
       "      <td>10253</td>\n",
       "      <td>F:/Data_Breast_Cancer/IDC_regular_ps50_idx5/10...</td>\n",
       "      <td>0</td>\n",
       "    </tr>\n",
       "    <tr>\n",
       "      <th>1</th>\n",
       "      <td>10253</td>\n",
       "      <td>F:/Data_Breast_Cancer/IDC_regular_ps50_idx5/10...</td>\n",
       "      <td>0</td>\n",
       "    </tr>\n",
       "    <tr>\n",
       "      <th>2</th>\n",
       "      <td>10253</td>\n",
       "      <td>F:/Data_Breast_Cancer/IDC_regular_ps50_idx5/10...</td>\n",
       "      <td>0</td>\n",
       "    </tr>\n",
       "    <tr>\n",
       "      <th>3</th>\n",
       "      <td>10253</td>\n",
       "      <td>F:/Data_Breast_Cancer/IDC_regular_ps50_idx5/10...</td>\n",
       "      <td>0</td>\n",
       "    </tr>\n",
       "    <tr>\n",
       "      <th>4</th>\n",
       "      <td>10253</td>\n",
       "      <td>F:/Data_Breast_Cancer/IDC_regular_ps50_idx5/10...</td>\n",
       "      <td>0</td>\n",
       "    </tr>\n",
       "  </tbody>\n",
       "</table>\n",
       "</div>"
      ],
      "text/plain": [
       "  patient_id                                               path target\n",
       "0      10253  F:/Data_Breast_Cancer/IDC_regular_ps50_idx5/10...      0\n",
       "1      10253  F:/Data_Breast_Cancer/IDC_regular_ps50_idx5/10...      0\n",
       "2      10253  F:/Data_Breast_Cancer/IDC_regular_ps50_idx5/10...      0\n",
       "3      10253  F:/Data_Breast_Cancer/IDC_regular_ps50_idx5/10...      0\n",
       "4      10253  F:/Data_Breast_Cancer/IDC_regular_ps50_idx5/10...      0"
      ]
     },
     "execution_count": 30,
     "metadata": {},
     "output_type": "execute_result"
    }
   ],
   "source": [
    "# Créer un DataFrame vide\n",
    "df = pd.DataFrame(index=np.arange(0, img_T), columns=[\"patient_id\", \"path\", \"target\"])\n",
    "\n",
    "i = 0\n",
    "for patient_id in folder:\n",
    "    patient_path = pat_fold + patient_id \n",
    "    for target in [0, 1]:\n",
    "        class_path = patient_path + \"/\" + str(target) + \"/\"\n",
    "        subfiles = listdir(class_path)\n",
    "        for image_path in subfiles:\n",
    "            # Chemin complet de l'image\n",
    "            image_fullpath = class_path + image_path\n",
    "            df.loc[i, \"path\"] = image_fullpath\n",
    "            df.loc[i, \"target\"] = target\n",
    "            df.loc[i, \"patient_id\"] = patient_id\n",
    "            i += 1             \n",
    "df.head()\n"
   ]
  },
  {
   "cell_type": "markdown",
   "metadata": {},
   "source": [
    "Pour chaque patient donné, nous pouvons acceder à chaque image  et avoir le résultat de chaque image"
   ]
  },
  {
   "cell_type": "code",
   "execution_count": 35,
   "metadata": {},
   "outputs": [
    {
     "data": {
      "text/plain": [
       "target\n",
       "0    198738\n",
       "1     78786\n",
       "Name: count, dtype: int64"
      ]
     },
     "execution_count": 35,
     "metadata": {},
     "output_type": "execute_result"
    }
   ],
   "source": [
    "df['target'].value_counts()"
   ]
  },
  {
   "cell_type": "markdown",
   "metadata": {},
   "source": [
    "# Exploration et analyse de données"
   ]
  },
  {
   "cell_type": "code",
   "execution_count": null,
   "metadata": {},
   "outputs": [],
   "source": [
    "cancer_img = glob.glob('F:/Data_Breast_Cancer/IDC_regular_ps50_idx55/**/*.png', recursive = True)\n",
    "\n",
    "for imgname in cancer_img[:3]:\n",
    "    print(imgname)"
   ]
  },
  {
   "cell_type": "code",
   "execution_count": 36,
   "metadata": {},
   "outputs": [
    {
     "ename": "IndexError",
     "evalue": "string index out of range",
     "output_type": "error",
     "traceback": [
      "\u001b[1;31m---------------------------------------------------------------------------\u001b[0m",
      "\u001b[1;31mIndexError\u001b[0m                                Traceback (most recent call last)",
      "Cell \u001b[1;32mIn[36], line 5\u001b[0m\n\u001b[0;32m      2\u001b[0m P_IDC \u001b[38;5;241m=\u001b[39m []\n\u001b[0;32m      4\u001b[0m \u001b[38;5;28;01mfor\u001b[39;00m img \u001b[38;5;129;01min\u001b[39;00m df:\n\u001b[1;32m----> 5\u001b[0m     \u001b[38;5;28;01mif\u001b[39;00m img[\u001b[38;5;241m-\u001b[39m\u001b[38;5;241m5\u001b[39m] \u001b[38;5;241m==\u001b[39m \u001b[38;5;124m'\u001b[39m\u001b[38;5;124m0\u001b[39m\u001b[38;5;124m'\u001b[39m :\n\u001b[0;32m      6\u001b[0m         N_IDC\u001b[38;5;241m.\u001b[39mappend(img)\n\u001b[0;32m      8\u001b[0m     \u001b[38;5;28;01melif\u001b[39;00m img[\u001b[38;5;241m-\u001b[39m\u001b[38;5;241m5\u001b[39m] \u001b[38;5;241m==\u001b[39m \u001b[38;5;124m'\u001b[39m\u001b[38;5;124m1\u001b[39m\u001b[38;5;124m'\u001b[39m :\n",
      "\u001b[1;31mIndexError\u001b[0m: string index out of range"
     ]
    }
   ],
   "source": [
    "N_IDC = []\n",
    "P_IDC = []\n",
    "\n",
    "for img in df:\n",
    "    if img[-5] == '0' :\n",
    "        N_IDC.append(img)\n",
    "    \n",
    "    elif img[-5] == '1' :\n",
    "        P_IDC.append(img)\n",
    "plt.figure(figsize = (15, 15))\n",
    "\n",
    "some_non = np.random.randint(0, len(N_IDC), 18)\n",
    "some_can = np.random.randint(0, len(P_IDC), 18)\n",
    "\n",
    "s = 0\n",
    "for num in some_non:\n",
    "    \n",
    "        img = image.load_img((N_IDC[num]), target_size=(100, 100))\n",
    "        img = image.img_to_array(img)\n",
    "        \n",
    "        plt.subplot(6, 6, 2*s+1)\n",
    "        plt.axis('off')\n",
    "        plt.title('no cancer')\n",
    "        plt.imshow(img.astype('uint8'))\n",
    "        s += 1\n",
    "s = 1\n",
    "for num in some_can:\n",
    "    \n",
    "        img = image.load_img((P_IDC[num]), target_size=(100, 100))\n",
    "        img = image.img_to_array(img)\n",
    "        \n",
    "        plt.subplot(6, 6, 2*s)\n",
    "        plt.axis('off')        \n",
    "        plt.title('IDC (+)')\n",
    "        plt.imshow(img.astype('uint8'))\n",
    "        s += 1\n"
   ]
  },
  {
   "cell_type": "code",
   "execution_count": null,
   "metadata": {},
   "outputs": [],
   "source": [
    "\n",
    "\n",
    "# Création du modèle séquentiel\n",
    "model = Sequential()\n",
    "\n",
    "# Première couche de convolution suivie de MaxPooling\n",
    "model.add(Conv2D(32, (3, 3), activation='relu', input_shape=(25, 25, 3)))\n",
    "model.add(MaxPooling2D((2, 2)))\n",
    "\n",
    "# Deuxième couche de convolution suivie de MaxPooling\n",
    "model.add(Conv2D(64, (3, 3), activation='relu'))\n",
    "model.add(MaxPooling2D((2, 2)))\n",
    "\n",
    "# Troisième couche de convolution suivie de MaxPooling\n",
    "model.add(Conv2D(128, (3, 3), activation='relu'))\n",
    "model.add(MaxPooling2D((2, 2)))\n",
    "\n",
    "# Aplatissement des données pour les couches fully connected\n",
    "model.add(Flatten())\n",
    "\n",
    "# Première couche fully connected avec dropout\n",
    "model.add(Dense(256, activation='relu'))\n",
    "model.add(Dropout(0.5))\n",
    "\n",
    "# Deuxième couche fully connected pour la classification\n",
    "#model.add(Dense(1, activation='sigmoid'))\n",
    "model.add(Dense(2, activation='sigmoid'))\n",
    "\n",
    "# Compilation du modèle\n",
    "#model.compile(optimizer='adam', loss='binary_crossentropy', metrics=['accuracy'])\n",
    "\n",
    "\n",
    "# Compilation du modèle avec l'optimiseur Adam et un taux d'apprentissage spécifié\n",
    "model.compile(optimizer=Adam(learning_rate=0.001), loss='binary_crossentropy', metrics=['accuracy'])\n",
    "\n",
    "\n",
    "# Affichage de la structure du modèle\n",
    "model.summary()\n"
   ]
  },
  {
   "cell_type": "code",
   "execution_count": null,
   "metadata": {},
   "outputs": [],
   "source": [
    "from skimage.transform import resize\n",
    "# Redimensionner les images à la taille attendue (25x25)\n",
    "X_resized = np.array([resize(image, (25, 25)) for image in X])\n",
    "\n",
    "# Assurez-vous que les valeurs des pixels sont comprises entre 0 et 1\n",
    "X_resized = X_resized.astype('float32') / 255.0"
   ]
  },
  {
   "cell_type": "code",
   "execution_count": null,
   "metadata": {},
   "outputs": [],
   "source": [
    "\n",
    "\n",
    "# Définir le nombre de folds\n",
    "k = 2\n",
    "\n",
    "# Créer un objet StratifiedKFold\n",
    "kf = StratifiedKFold (n_splits=k, shuffle=True)\n",
    "\n",
    "# Liste pour stocker les scores de validation pour chaque fold\n",
    "val_scores = []\n",
    "\n",
    "# Boucle sur les folds\n",
    "for fold, (train_index, test_index) in enumerate(kf.split(X, y), 1):\n",
    "    # Diviser les données en ensembles d'entraînement et de validation pour ce fold\n",
    "    X_train, X_test = X[train_index], X[test_index]\n",
    "    y_train, y_test = y[train_index], y[test_index]\n",
    "    \n",
    "    # Créer, compiler et entraîner votre modèle\n",
    "    model = Sequential()\n",
    "    model.add(Conv2D(filters=32, kernel_size=(4, 4), activation='relu', input_shape=(25, 25, 3)))\n",
    "    model.add(MaxPooling2D(pool_size=(2, 2)))\n",
    "    model.add(Flatten())\n",
    "    model.add(Dense(256, activation='relu'))\n",
    "    model.add(Dropout(0.5))\n",
    "    model.add(Dense(1, activation='sigmoid'))  # Couche de sortie pour la classification binaire\n",
    "    model.compile(optimizer='adam', loss='binary_crossentropy', metrics=['accuracy'])\n",
    "\n",
    "   \n",
    "    # Entraînement du modèle avec validation croisée\n",
    "    history = model.fit(X_train, y_train, epochs=5, batch_size=32, validation_data=(X_test, y_test))\n",
    "    \n",
    "    # Afficher les courbes de perte et de précision pour l'entraînement et la validation\n",
    "    plt.figure(figsize=(10, 4))\n",
    "    plt.subplot(1, 2, 1)\n",
    "    plt.plot(history.history['loss'], label='Training Loss')\n",
    "    plt.plot(history.history['val_loss'], label='Validation Loss')\n",
    "    plt.title('Fold {} - Loss'.format(fold))\n",
    "    plt.xlabel('Epochs')\n",
    "    plt.ylabel('Loss')\n",
    "    plt.legend()\n",
    "    \n",
    "    plt.subplot(1, 2, 2)\n",
    "    plt.plot(history.history['accuracy'], label='Training Accuracy')\n",
    "    plt.plot(history.history['val_accuracy'], label='Validation Accuracy')\n",
    "    plt.title('Fold {} - Accuracy'.format(fold))\n",
    "    plt.xlabel('Epochs')\n",
    "    plt.ylabel('Accuracy')\n",
    "    plt.legend()\n",
    "    \n",
    "    plt.tight_layout()\n",
    "    plt.show()\n",
    "\n",
    "    # Évaluer le modèle sur l'ensemble de validation et enregistrer le score\n",
    "    _, val_score = model.evaluate(X_test, y_test)\n",
    "    val_scores.append(val_score)\n",
    "\n",
    "    # Calculer la moyenne des scores de validation\n",
    "mean_val_score = np.mean(val_scores)\n",
    "print(\"Mean validation score:\", mean_val_score)\n",
    "\n"
   ]
  }
 ],
 "metadata": {
  "kernelspec": {
   "display_name": "base",
   "language": "python",
   "name": "python3"
  },
  "language_info": {
   "codemirror_mode": {
    "name": "ipython",
    "version": 3
   },
   "file_extension": ".py",
   "mimetype": "text/x-python",
   "name": "python",
   "nbconvert_exporter": "python",
   "pygments_lexer": "ipython3",
   "version": "3.11.5"
  }
 },
 "nbformat": 4,
 "nbformat_minor": 2
}
